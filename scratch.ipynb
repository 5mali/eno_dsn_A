{
 "cells": [
  {
   "cell_type": "code",
   "execution_count": 4,
   "metadata": {},
   "outputs": [
    {
     "name": "stdout",
     "output_type": "stream",
     "text": [
      "[1 2]\n"
     ]
    }
   ],
   "source": [
    "import numpy as np\n",
    "import matplotlib.pyplot as plt\n",
    "\n",
    "print (np.arange(1,3))"
   ]
  },
  {
   "cell_type": "code",
   "execution_count": 6,
   "metadata": {},
   "outputs": [
    {
     "data": {
      "text/plain": [
       "[<matplotlib.lines.Line2D at 0x1fae91245c0>]"
      ]
     },
     "execution_count": 6,
     "metadata": {},
     "output_type": "execute_result"
    },
    {
     "data": {
      "image/png": "[encoded data removed]",
      "text/plain": [
       "<Figure size 432x288 with 1 Axes>"
      ]
     },
     "metadata": {
      "needs_background": "light"
     },
     "output_type": "display_data"
    }
   ],
   "source": [
    "#FIRST REWARD AS A FUNCTION OF DRIFT OF BMEAN FROM BOPT i.e. in terms of BDEV = |BMEAN-BOPT|/BMAX\n",
    "def r1(bmean): \n",
    "#     bmean = np.mean(self.btrack)\n",
    "    BMAX = 9250\n",
    "    BOPT = 0.5*BMAX\n",
    "    bdev = np.abs(BOPT - bmean)/BMAX\n",
    "    # based on the sigmoid function\n",
    "    # bdev ranges from bdev = (0,0.5) of BMAX\n",
    "    p1_sharpness = 10\n",
    "    n1_sharpness = 20\n",
    "    shift1 = 0.5\n",
    "    # r1(x) = 0.5 when x = 0.25. \n",
    "    # Therefore, shift = 0.5 to make sure that (2*x-shift) evaluates to zero at x = 0.25\n",
    "\n",
    "    if(bdev<=0.25): \n",
    "        r_1 = 2*(1-(1 / (1 + np.exp(-p1_sharpness*(2*bdev-shift1)))))-1\n",
    "    else: \n",
    "        r_1 = 2*(1-(1 / (1 + np.exp(-n1_sharpness*(2*bdev-shift1)))))-1\n",
    "    # r1 ranges from -1 to 1\n",
    "    return r_1\n",
    "\n",
    "x = np.arange(0,9250)\n",
    "y = [r1(i) for i in x]\n",
    "plt.plot(x,y)"
   ]
  },
  {
   "cell_type": "code",
   "execution_count": 7,
   "metadata": {},
   "outputs": [
    {
     "data": {
      "text/plain": [
       "[<matplotlib.lines.Line2D at 0x1fae91bbf60>]"
      ]
     },
     "execution_count": 7,
     "metadata": {},
     "output_type": "execute_result"
    },
    {
     "data": {
      "image/png": "[encoded data removed]",
      "text/plain": [
       "<Figure size 432x288 with 1 Axes>"
      ]
     },
     "metadata": {
      "needs_background": "light"
     },
     "output_type": "display_data"
    }
   ],
   "source": [
    "#SECOND REWARD AS A FUNCTION OF ENP AS LONG AS BMAX/4 <= batt <= 3*BMAX/4 i.e. bdev <= 0.25\n",
    "def r2(enp):    # enp ranges from enp = (0,3) of DMAX\n",
    "    DMAX = 500\n",
    "    p2_sharpness = 2\n",
    "    n2_sharpness = 2\n",
    "    shift2 = 6    \n",
    "    # r1(x) = 0.5 when x = 2. \n",
    "    # Therefore, shift = 6 to make sure that (3*x-shift) evaluates to zero at x = 2\n",
    "#             print('Day energy', np.sum(self.eno.senergy[self.eno.day]))\n",
    "#             print('Node energy', np.sum(self.atrack)*self.DMAX/self.N_ACTIONS)\n",
    "#             x = np.abs(np.sum(self.eno.senergy[self.eno.day])-np.sum(self.atrack)*self.DMAX/self.N_ACTIONS )/self.DMAX\n",
    "    x = np.abs(enp/DMAX)\n",
    "    if(x<=2): \n",
    "        r_2 = (1 / (1 + np.exp(p2_sharpness*(3*x-shift2))))\n",
    "    else: \n",
    "        r_2 = (1 / (1 + np.exp(n2_sharpness*(3*x-shift2))))\n",
    "    return r_2\n",
    "\n",
    "x = np.arange(0,9250)\n",
    "y = [r2(i) for i in x]\n",
    "plt.plot(x,y)"
   ]
  },
  {
   "cell_type": "code",
   "execution_count": null,
   "metadata": {},
   "outputs": [],
   "source": []
  },
  {
   "cell_type": "code",
   "execution_count": null,
   "metadata": {},
   "outputs": [],
   "source": []
  },
  {
   "cell_type": "code",
   "execution_count": null,
   "metadata": {},
   "outputs": [],
   "source": []
  },
  {
   "cell_type": "code",
   "execution_count": null,
   "metadata": {},
   "outputs": [],
   "source": []
  },
  {
   "cell_type": "code",
   "execution_count": null,
   "metadata": {},
   "outputs": [],
   "source": []
  },
  {
   "cell_type": "code",
   "execution_count": null,
   "metadata": {},
   "outputs": [],
   "source": []
  },
  {
   "cell_type": "code",
   "execution_count": null,
   "metadata": {},
   "outputs": [],
   "source": []
  },
  {
   "cell_type": "code",
   "execution_count": null,
   "metadata": {},
   "outputs": [],
   "source": []
  },
  {
   "cell_type": "code",
   "execution_count": 35,
   "metadata": {},
   "outputs": [],
   "source": [
    "morning = np.arange(0,6)\n",
    "night = np.arange(18,24)"
   ]
  },
  {
   "cell_type": "code",
   "execution_count": 41,
   "metadata": {},
   "outputs": [
    {
     "name": "stdout",
     "output_type": "stream",
     "text": [
      "[ 0  1  2  3  4  5 18 19 20 21 22 23]\n"
     ]
    }
   ],
   "source": [
    "index = np.concatenate((morning,night),axis=0)\n",
    "print(index)"
   ]
  },
  {
   "cell_type": "code",
   "execution_count": 43,
   "metadata": {},
   "outputs": [
    {
     "name": "stdout",
     "output_type": "stream",
     "text": [
      "[ 0.73384983 -0.30388092 -1.31282528 -0.46971375  0.68051533 -2.11823557\n",
      "  0.3735134  -1.7729238  -0.058941    0.28267503  1.19886048 -0.85035064\n",
      "  0.7437798   0.504626   -1.83081645  0.91448284 -2.34313918 -0.39155401\n",
      " -0.61510303  0.45877559 -1.07691698  0.16509869 -0.96996109  1.04962674]\n"
     ]
    }
   ],
   "source": [
    "data = np.random.normal(size=24)\n",
    "print(data)"
   ]
  },
  {
   "cell_type": "code",
   "execution_count": 44,
   "metadata": {},
   "outputs": [
    {
     "data": {
      "text/plain": [
       "array([ 0.73384983, -0.30388092, -1.31282528, -0.46971375,  0.68051533,\n",
       "       -2.11823557, -0.61510303,  0.45877559, -1.07691698,  0.16509869,\n",
       "       -0.96996109,  1.04962674])"
      ]
     },
     "execution_count": 44,
     "metadata": {},
     "output_type": "execute_result"
    }
   ],
   "source": [
    "data[index]"
   ]
  }
 ],
 "metadata": {
  "kernelspec": {
   "display_name": "Python 3",
   "language": "python",
   "name": "python3"
  },
  "language_info": {
   "codemirror_mode": {
    "name": "ipython",
    "version": 3
   },
   "file_extension": ".py",
   "mimetype": "text/x-python",
   "name": "python",
   "nbconvert_exporter": "python",
   "pygments_lexer": "ipython3",
   "version": "3.6.7"
  }
 },
 "nbformat": 4,
 "nbformat_minor": 2
}
